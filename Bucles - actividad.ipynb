{
 "cells": [
  {
   "cell_type": "markdown",
   "metadata": {},
   "source": [
    "## Bucles - Actividad\n",
    "*Los ejercicios propuestos a continuación presentan autocorrección. En cada uno habrá dos bloques, uno para resolver el ejercicio y otro para testear tu solución.*\n",
    "Ejemplo:"
   ]
  },
  {
   "cell_type": "code",
   "execution_count": 1,
   "metadata": {},
   "outputs": [],
   "source": [
    "def ejemplo():\n",
    "    return \"ejemplo\""
   ]
  },
  {
   "cell_type": "code",
   "execution_count": 2,
   "metadata": {},
   "outputs": [
    {
     "name": "stdout",
     "output_type": "stream",
     "text": [
      "\u001b[92mMuy bien!\n"
     ]
    }
   ],
   "source": [
    "# TEST EJEMPLO\n",
    "\n",
    "try:\n",
    "    assert ejemplo() == \"ejemplo\", \"ejemplo() debería retornar 'ejemplo'\"\n",
    "    print('\\033[92m' + 'Muy bien!')\n",
    "except AssertionError as e:\n",
    "    print('\\033[91m' + str(e))"
   ]
  },
  {
   "cell_type": "markdown",
   "metadata": {},
   "source": [
    "1. Escribir un programa que calcule la suma de los primeros n números naturales y retorne el resultado"
   ]
  },
  {
   "cell_type": "code",
   "execution_count": 11,
   "metadata": {},
   "outputs": [],
   "source": [
    "def ejercicio_1(n):\n",
    "    suma = 0\n",
    "    numero = 1\n",
    "\n",
    "    while numero <= n:\n",
    "        suma += numero\n",
    "        numero += 1\n",
    "\n",
    "    return suma"
   ]
  },
  {
   "cell_type": "code",
   "execution_count": 14,
   "metadata": {},
   "outputs": [
    {
     "name": "stdout",
     "output_type": "stream",
     "text": [
      "\u001b[92m✓ Ejercicio correcto!\n"
     ]
    }
   ],
   "source": [
    "# TEST EJERCICIO 1\n",
    "\n",
    "try:\n",
    "    assert ejercicio_1(10) == 55\n",
    "    assert ejercicio_1(5) == 15\n",
    "    print('\\033[92m' + '✓ Ejercicio correcto!')\n",
    "except AssertionError as e:\n",
    "    print('\\033[91m' + \"x Ejercicio incorrecto\")"
   ]
  },
  {
   "cell_type": "markdown",
   "metadata": {},
   "source": [
    "2. Escribe un programa que cuente cuántos números pares hay en un rango del 1 al n, **incluyendo n**.\n",
    "Debe retornar el número de números pares encontrados."
   ]
  },
  {
   "cell_type": "code",
   "execution_count": 34,
   "metadata": {},
   "outputs": [
    {
     "name": "stdout",
     "output_type": "stream",
     "text": [
      "7\n"
     ]
    }
   ],
   "source": [
    "def ejercicio_2(n):\n",
    "    contador = 0  \n",
    "\n",
    "    for numero in range(1, n + 1):  \n",
    "        if numero % 2 == 0: \n",
    "            contador += 1 \n",
    "\n",
    "    return contador\n",
    "\n",
    "print(ejercicio_2(15))"
   ]
  },
  {
   "cell_type": "code",
   "execution_count": 35,
   "metadata": {},
   "outputs": [
    {
     "name": "stdout",
     "output_type": "stream",
     "text": [
      "\u001b[91mx Ejercicio incorrecto\n"
     ]
    }
   ],
   "source": [
    "# TEST EJERCICIO 2\n",
    "try:\n",
    "    assert ejercicio_2(10) == 5  # 2, 4, 6, 8, 10 son pares\n",
    "    assert ejercicio_2(15) == 8  # 2, 4, 6, 8, 10, 12, 14 son pares\n",
    "    print('\\033[92m' + '✓ Ejercicio correcto!')\n",
    "except AssertionError as e:\n",
    "    print('\\033[91m' + \"x Ejercicio incorrecto\")"
   ]
  },
  {
   "cell_type": "markdown",
   "metadata": {},
   "source": [
    "3. Escribe un programa que reciba una cadena de texto y cuente cuántas vocales contiene.\n",
    "Debe retornar el número total de vocales. Las vocales pueden ser mayúsculas o minúsculas."
   ]
  },
  {
   "cell_type": "code",
   "execution_count": 36,
   "metadata": {},
   "outputs": [],
   "source": [
    "def ejercicio_3(texto):\n",
    "    vocales = 0\n",
    "    for vocal in texto:\n",
    "        if vocal in \"aeiouAEIOU\":\n",
    "            vocales += 1\n",
    "    return vocales"
   ]
  },
  {
   "cell_type": "code",
   "execution_count": 37,
   "metadata": {},
   "outputs": [
    {
     "name": "stdout",
     "output_type": "stream",
     "text": [
      "\u001b[92m✓ Ejercicio correcto!\n"
     ]
    }
   ],
   "source": [
    "# TEST EJERCICIO 3\n",
    "try:\n",
    "    assert ejercicio_3(\"Hola, mundo\") == 4\n",
    "    assert ejercicio_3(\"AEIOUaeiou\") == 10\n",
    "    print('\\033[92m' + '✓ Ejercicio correcto!')\n",
    "except AssertionError as e:\n",
    "    print('\\033[91m' + \"x Ejercicio incorrecto\")"
   ]
  },
  {
   "cell_type": "markdown",
   "metadata": {},
   "source": [
    "4. Escribe un programa que encuentre el número más grande en una lista de números.\n",
    "Debe retornar el `'El numero mas grande es {numero}'`"
   ]
  },
  {
   "cell_type": "code",
   "execution_count": 46,
   "metadata": {},
   "outputs": [
    {
     "ename": "SyntaxError",
     "evalue": "invalid syntax (2457324529.py, line 6)",
     "output_type": "error",
     "traceback": [
      "\u001b[1;36m  Cell \u001b[1;32mIn[46], line 6\u001b[1;36m\u001b[0m\n\u001b[1;33m    return f \"El número más grande es {grande}\"\u001b[0m\n\u001b[1;37m             ^\u001b[0m\n\u001b[1;31mSyntaxError\u001b[0m\u001b[1;31m:\u001b[0m invalid syntax\n"
     ]
    }
   ],
   "source": [
    "def ejercicio_4(lista_numeros):\n",
    "    grande = 0\n",
    "    for numero in lista_numeros:\n",
    "       if numero > grande:\n",
    "           grande = numero\n",
    "    return f \"El número más grande es {grande}\"   "
   ]
  },
  {
   "cell_type": "code",
   "execution_count": 47,
   "metadata": {},
   "outputs": [
    {
     "name": "stdout",
     "output_type": "stream",
     "text": [
      "\u001b[92m✓ Ejercicio correcto!\n"
     ]
    }
   ],
   "source": [
    "# TEST EJERCICIO 4\n",
    "\n",
    "try:\n",
    "    assert ejercicio_4([3, 8, 1, 7, 12]) == 'El numero mas grande es 12'\n",
    "    assert ejercicio_4([17, 22, 4, 9, 5, 25, 10]) == 'El numero mas grande es 25'\n",
    "    print('\\033[92m' + '✓ Ejercicio correcto!')\n",
    "except AssertionError as e:\n",
    "    print('\\033[91m' + \"x Ejercicio incorrecto\")"
   ]
  },
  {
   "cell_type": "markdown",
   "metadata": {},
   "source": [
    "5. Encontrar los números primos en un rango del 1 al n, **incluyendo n**.\n",
    "Debe retornar una lista con los números primos encontrados."
   ]
  },
  {
   "cell_type": "code",
   "execution_count": 66,
   "metadata": {},
   "outputs": [],
   "source": [
    "def ejercicio_5(n):\n",
    "    primos = []\n",
    "\n",
    "    for numero in range(2, n + 1):\n",
    "        es_primo = True\n",
    "\n",
    "        for divisor in range(2, int(numero**0.5) + 1):\n",
    "            if numero % divisor == 0:\n",
    "                es_primo = False\n",
    "                break\n",
    "\n",
    "        if es_primo:\n",
    "            primos.append(numero)\n",
    "\n",
    "    return primos"
   ]
  },
  {
   "cell_type": "code",
   "execution_count": 67,
   "metadata": {},
   "outputs": [
    {
     "name": "stdout",
     "output_type": "stream",
     "text": [
      "\u001b[92m✓ Ejercicio correcto!\n"
     ]
    }
   ],
   "source": [
    "# TEST EJERCICIO 5\n",
    "\n",
    "try:\n",
    "    assert ejercicio_5(10) == [2, 3, 5, 7]\n",
    "    assert ejercicio_5(20) == [2, 3, 5, 7, 11, 13, 17, 19]\n",
    "    print('\\033[92m' + '✓ Ejercicio correcto!')\n",
    "except AssertionError as e:\n",
    "    print('\\033[91m' + \"x Ejercicio incorrecto\")"
   ]
  },
  {
   "cell_type": "markdown",
   "metadata": {},
   "source": [
    "6. Un __palíndromo__ es una palabra, número o frase que se lee igual hacia adelante que hacia atrás. Crear una funcion que reciba una cadena de texto y devuelva si dicha cadena es un palíndromo o no. *Devolver True si es un palíndromo y False si no lo es*"
   ]
  },
  {
   "cell_type": "code",
   "execution_count": 68,
   "metadata": {},
   "outputs": [],
   "source": [
    "def ejercicio_6(palabra):\n",
    "    cadena = cadena.lower()\n",
    "    longitud = len(cadena)\n",
    "\n",
    "    for i in range(longitud // 2):\n",
    "        if cadena[i] != cadena[longitud - 1 - i]:\n",
    "            return False\n",
    "\n",
    "    return True"
   ]
  },
  {
   "cell_type": "code",
   "execution_count": 70,
   "metadata": {},
   "outputs": [
    {
     "ename": "UnboundLocalError",
     "evalue": "cannot access local variable 'cadena' where it is not associated with a value",
     "output_type": "error",
     "traceback": [
      "\u001b[1;31m---------------------------------------------------------------------------\u001b[0m",
      "\u001b[1;31mUnboundLocalError\u001b[0m                         Traceback (most recent call last)",
      "\u001b[1;32mc:\\Users\\Esteban\\Documents\\casa del futuro\\python\\Bucles - actividad.ipynb Celda 21\u001b[0m line \u001b[0;36m4\n\u001b[0;32m      <a href='vscode-notebook-cell:/c%3A/Users/Esteban/Documents/casa%20del%20futuro/python/Bucles%20-%20actividad.ipynb#X26sZmlsZQ%3D%3D?line=0'>1</a>\u001b[0m \u001b[39m# TEST EJERCICIO 6\u001b[39;00m\n\u001b[0;32m      <a href='vscode-notebook-cell:/c%3A/Users/Esteban/Documents/casa%20del%20futuro/python/Bucles%20-%20actividad.ipynb#X26sZmlsZQ%3D%3D?line=2'>3</a>\u001b[0m \u001b[39mtry\u001b[39;00m:\n\u001b[1;32m----> <a href='vscode-notebook-cell:/c%3A/Users/Esteban/Documents/casa%20del%20futuro/python/Bucles%20-%20actividad.ipynb#X26sZmlsZQ%3D%3D?line=3'>4</a>\u001b[0m     \u001b[39massert\u001b[39;00m ejercicio_6(\u001b[39m\"\u001b[39;49m\u001b[39msometemos\u001b[39;49m\u001b[39m\"\u001b[39;49m) \u001b[39m==\u001b[39m \u001b[39mTrue\u001b[39;00m\n\u001b[0;32m      <a href='vscode-notebook-cell:/c%3A/Users/Esteban/Documents/casa%20del%20futuro/python/Bucles%20-%20actividad.ipynb#X26sZmlsZQ%3D%3D?line=4'>5</a>\u001b[0m     \u001b[39massert\u001b[39;00m ejercicio_6(\u001b[39m\"\u001b[39m\u001b[39marenera\u001b[39m\u001b[39m\"\u001b[39m) \u001b[39m==\u001b[39m \u001b[39mTrue\u001b[39;00m\n\u001b[0;32m      <a href='vscode-notebook-cell:/c%3A/Users/Esteban/Documents/casa%20del%20futuro/python/Bucles%20-%20actividad.ipynb#X26sZmlsZQ%3D%3D?line=5'>6</a>\u001b[0m     \u001b[39massert\u001b[39;00m ejercicio_6(\u001b[39m\"\u001b[39m\u001b[39mholamundo\u001b[39m\u001b[39m\"\u001b[39m) \u001b[39m==\u001b[39m \u001b[39mFalse\u001b[39;00m\n",
      "\u001b[1;32mc:\\Users\\Esteban\\Documents\\casa del futuro\\python\\Bucles - actividad.ipynb Celda 21\u001b[0m line \u001b[0;36m2\n\u001b[0;32m      <a href='vscode-notebook-cell:/c%3A/Users/Esteban/Documents/casa%20del%20futuro/python/Bucles%20-%20actividad.ipynb#X26sZmlsZQ%3D%3D?line=0'>1</a>\u001b[0m \u001b[39mdef\u001b[39;00m \u001b[39mejercicio_6\u001b[39m(palabra):\n\u001b[1;32m----> <a href='vscode-notebook-cell:/c%3A/Users/Esteban/Documents/casa%20del%20futuro/python/Bucles%20-%20actividad.ipynb#X26sZmlsZQ%3D%3D?line=1'>2</a>\u001b[0m     cadena \u001b[39m=\u001b[39m cadena\u001b[39m.\u001b[39mlower()\n\u001b[0;32m      <a href='vscode-notebook-cell:/c%3A/Users/Esteban/Documents/casa%20del%20futuro/python/Bucles%20-%20actividad.ipynb#X26sZmlsZQ%3D%3D?line=2'>3</a>\u001b[0m     longitud \u001b[39m=\u001b[39m \u001b[39mlen\u001b[39m(cadena)\n\u001b[0;32m      <a href='vscode-notebook-cell:/c%3A/Users/Esteban/Documents/casa%20del%20futuro/python/Bucles%20-%20actividad.ipynb#X26sZmlsZQ%3D%3D?line=4'>5</a>\u001b[0m     \u001b[39mfor\u001b[39;00m i \u001b[39min\u001b[39;00m \u001b[39mrange\u001b[39m(longitud \u001b[39m/\u001b[39m\u001b[39m/\u001b[39m \u001b[39m2\u001b[39m):\n",
      "\u001b[1;31mUnboundLocalError\u001b[0m: cannot access local variable 'cadena' where it is not associated with a value"
     ]
    }
   ],
   "source": [
    "# TEST EJERCICIO 6\n",
    "\n",
    "try:\n",
    "    assert ejercicio_6(\"sometemos\") == True\n",
    "    assert ejercicio_6(\"arenera\") == True\n",
    "    assert ejercicio_6(\"holamundo\") == False\n",
    "    assert ejercicio_6(\"python\") == False\n",
    "    assert ejercicio_6(\"reconocer\") == True\n",
    "    print('\\033[92m' + '✓ Ejercicio correcto!')\n",
    "except AssertionError as e:\n",
    "    print('\\033[91m' + \"x Ejercicio incorrecto\")\n",
    "    "
   ]
  },
  {
   "cell_type": "markdown",
   "metadata": {},
   "source": [
    "7. Dada una lista de nombres, crear una funcion que devuelva una lista con los nombres que empiezan con la letra recibida como parámetro."
   ]
  },
  {
   "cell_type": "code",
   "execution_count": 73,
   "metadata": {},
   "outputs": [],
   "source": [
    "def ejercicio_7(letra, lista_nombres):\n",
    "    lista=[]\n",
    "    for nombre in lista_nombres:\n",
    "        if nombre[0]== letra:\n",
    "            lista.append(nombre)\n",
    "    \n",
    "    return lista"
   ]
  },
  {
   "cell_type": "code",
   "execution_count": 74,
   "metadata": {},
   "outputs": [
    {
     "name": "stdout",
     "output_type": "stream",
     "text": [
      "\u001b[92m✓ Ejercicio correcto!\n"
     ]
    }
   ],
   "source": [
    "# TEST EJERCICIO 7\n",
    "\n",
    "try:\n",
    "    assert ejercicio_7(\"A\", [\"Ana\", \"Juan\", \"Pedro\", \"Amanda\", \"Pablo\", \"Alfredo\"]) == [\"Ana\", \"Amanda\", \"Alfredo\"]\n",
    "    assert ejercicio_7(\"J\", [\"Ana\", \"Juan\", \"Pedro\", \"Amanda\", \"Pablo\", \"Alfredo\"]) == [\"Juan\"]\n",
    "    assert ejercicio_7(\"P\", [\"Ana\", \"Juan\", \"Pedro\", \"Amanda\", \"Pablo\", \"Alfredo\"]) == [\"Pedro\", \"Pablo\"]\n",
    "    assert ejercicio_7(\"Z\", [\"Ana\", \"Juan\", \"Pedro\", \"Amanda\", \"Pablo\", \"Alfredo\"]) == []\n",
    "    print('\\033[92m' + '✓ Ejercicio correcto!')\n",
    "except AssertionError as e:\n",
    "    print('\\033[91m' + \"x Ejercicio incorrecto\")"
   ]
  },
  {
   "cell_type": "markdown",
   "metadata": {},
   "source": [
    "8. Crear una funcion que recibe un laberinto en forma de matriz y debe devolver la posicion de la salida del laberinto.\n",
    "\n",
    "*El laberinto es una matriz donde \"#\" representa una pared, un espacio \" \" representa un pasillo y \"S\" representa la salida*\n",
    "\n",
    "*Ejemplo:*\n",
    "\n",
    "```python\n",
    "laberinto = [[\"#\",\"#\",\"#\",\"#\",\"#\",\"#\"],\n",
    "             [\"#\",\" \",\" \",\" \",\"#\",\"#\"],\n",
    "             [\"#\",\" \",\"#\",\" \",\" \",\"#\"],\n",
    "             [\"#\",\" \",\"#\",\"#\",\" \",\"#\"],\n",
    "             [\"#\",\" \",\" \",\"#\",\" \",\"#\"],\n",
    "             [\"#\",\"#\",\"#\",\"#\",\"S\",\"#\"]]\n",
    "```\n",
    "La funcion debe recorrer elemento por elemento hasta encontrar la S y devolver la posicion de la S en forma de tupla (fila, columna).\n",
    "*Recomendación: utilizar un bucle for anidado (un for dentro de otro for) donde el primero recorra las filas y el segundo las columnas.*"
   ]
  },
  {
   "cell_type": "code",
   "execution_count": 77,
   "metadata": {},
   "outputs": [],
   "source": [
    "def ejercicio_8(laberinto):\n",
    "    for fila in range(len(laberinto)):\n",
    "        for columna in range(len(laberinto[0])):\n",
    "            if laberinto[fila][columna] == \"S\":\n",
    "                return(fila, columna)"
   ]
  },
  {
   "cell_type": "code",
   "execution_count": 78,
   "metadata": {},
   "outputs": [
    {
     "name": "stdout",
     "output_type": "stream",
     "text": [
      "\u001b[92m✓ Ejercicio correcto!\n"
     ]
    }
   ],
   "source": [
    "# TEST EJERCICIO 8\n",
    "\n",
    "try:\n",
    "    assert ejercicio_8([\n",
    "        [\"#\", \"#\", \"#\", \"#\", \"#\", \"#\", \"#\", \"#\", \"#\", \"#\", \"#\", \"#\", \"#\", \"#\", \"#\", \"#\"],\n",
    "        [\"#\", \" \", \" \", \" \", \" \", \" \", \" \", \" \", \" \", \" \", \" \", \" \", \" \", \" \", \" \", \"#\"],\n",
    "        [\"#\", \" \", \"#\", \"#\", \"#\", \"#\", \"#\", \"#\", \"#\", \"#\", \" \", \"#\", \"#\", \"#\", \" \", \"#\"],\n",
    "        [\"#\", \" \", \"#\", \" \", \" \", \" \", \" \", \" \", \" \", \"#\", \" \", \"#\", \" \", \" \", \" \", \"#\"],\n",
    "        [\"#\", \" \", \"#\", \" \", \"#\", \"#\", \"#\", \"#\", \" \", \"#\", \" \", \"#\", \" \", \"#\", \"#\", \"#\"],\n",
    "        [\"#\", \" \", \"#\", \" \", \"#\", \" \", \" \", \" \", \" \", \"#\", \" \", \"#\", \" \", \" \", \" \", \"#\"],\n",
    "        [\"#\", \" \", \"#\", \" \", \"#\", \" \", \"#\", \"#\", \"#\", \"#\", \" \", \"#\", \"#\", \"#\", \" \", \"#\"],\n",
    "        [\"#\", \" \", \"#\", \" \", \"#\", \" \", \"#\", \" \", \" \", \" \", \" \", \" \", \" \", \" \", \" \", \"#\"],\n",
    "        [\"#\", \" \", \"#\", \" \", \"#\", \" \", \"#\", \" \", \"#\", \"#\", \"#\", \"#\", \"#\", \"#\", \"#\", \"#\"],\n",
    "        [\"#\", \" \", \"#\", \" \", \"#\", \" \", \"#\", \" \", \"#\", \" \", \" \", \" \", \" \", \" \", \" \", \"#\"],\n",
    "        [\"#\", \" \", \"#\", \" \", \"#\", \" \", \"#\", \" \", \"#\", \" \", \"#\", \"#\", \"#\", \"#\", \" \", \"#\"],\n",
    "        [\"#\", \" \", \"#\", \" \", \"#\", \" \", \"#\", \" \", \"#\", \" \", \" \", \" \", \" \", \"#\", \" \", \"#\"],\n",
    "        [\"#\", \" \", \"#\", \" \", \"#\", \" \", \"#\", \" \", \"#\", \"#\", \"#\", \"#\", \" \", \"#\", \" \", \"#\"],\n",
    "        [\"#\", \" \", \"#\", \" \", \"#\", \" \", \" \", \" \", \" \", \" \", \" \", \"#\", \" \", \"#\", \" \", \"#\"],\n",
    "        [\"#\", \" \", \"#\", \" \", \"#\", \"#\", \"#\", \"#\", \"#\", \"#\", \"#\", \"#\", \" \", \"#\", \" \", \"#\"],\n",
    "        [\"#\", \" \", \" \", \" \", \" \", \" \", \" \", \" \", \" \", \" \", \" \", \" \", \" \", \"#\", \" \", \"#\"],\n",
    "        [\"#\", \"#\", \"#\", \"#\", \"#\", \"#\", \"#\", \"#\", \"#\", \"#\", \"#\", \"#\", \"#\", \"#\", \"S\", \"#\"]\n",
    "    ]) == (16, 14)\n",
    "    print('\\033[92m' + '✓ Ejercicio correcto!')\n",
    "except AssertionError as e:\n",
    "    print('\\033[91m' + \"x Ejercicio incorrecto\")\n",
    "    "
   ]
  }
 ],
 "metadata": {
  "kernelspec": {
   "display_name": "Python 3",
   "language": "python",
   "name": "python3"
  },
  "language_info": {
   "codemirror_mode": {
    "name": "ipython",
    "version": 3
   },
   "file_extension": ".py",
   "mimetype": "text/x-python",
   "name": "python",
   "nbconvert_exporter": "python",
   "pygments_lexer": "ipython3",
   "version": "3.11.4"
  }
 },
 "nbformat": 4,
 "nbformat_minor": 2
}
