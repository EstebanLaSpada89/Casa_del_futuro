{
 "cells": [
  {
   "cell_type": "markdown",
   "metadata": {},
   "source": [
    "## Operadores - Actividad"
   ]
  },
  {
   "cell_type": "markdown",
   "metadata": {},
   "source": [
    "1) Pedir al usuario dos números y mostrar por pantalla la suma de ellos."
   ]
  },
  {
   "cell_type": "code",
   "execution_count": 1,
   "metadata": {},
   "outputs": [
    {
     "name": "stdout",
     "output_type": "stream",
     "text": [
      "La suma de los números es:  14\n"
     ]
    }
   ],
   "source": [
    "numero1 = int(input(\"Ingrese el primer número: \"))\n",
    "numero2 = int(input(\"Ingrese el segundo número: \"))\n",
    "print(\"La suma de los números es: \", numero1 + numero2)"
   ]
  },
  {
   "cell_type": "markdown",
   "metadata": {},
   "source": [
    "2) Calcular el perímetro y área de un rectángulo dada su base y su altura (el usuario debe introducir por teclado los dos valores)."
   ]
  },
  {
   "cell_type": "code",
   "execution_count": 2,
   "metadata": {},
   "outputs": [
    {
     "name": "stdout",
     "output_type": "stream",
     "text": [
      "El perímetro del rectangulo es:  26\n",
      "El área del rectangulo es:  36\n"
     ]
    }
   ],
   "source": [
    "longitud = int(input(\"Ingrese la longitud del rectangulo: \"))\n",
    "ancho = int(input(\"Ingrese la anchura del rectangulo: \"))\n",
    "perimetro = (longitud + ancho) * 2\n",
    "area = longitud * ancho\n",
    "print(\"El perímetro del rectangulo es: \", perimetro)\n",
    "print(\"El área del rectangulo es: \", area)"
   ]
  },
  {
   "cell_type": "markdown",
   "metadata": {},
   "source": [
    "3) Calcular el resultado de elevar un número entero a otro número entero (por ejemplo, 5 elevado a 3 = 5^3 = 5*5*5)."
   ]
  },
  {
   "cell_type": "code",
   "execution_count": 6,
   "metadata": {},
   "outputs": [
    {
     "name": "stdout",
     "output_type": "stream",
     "text": [
      "25\n"
     ]
    }
   ],
   "source": [
    "a = 5**2\n",
    "print(a)"
   ]
  },
  {
   "cell_type": "markdown",
   "metadata": {},
   "source": [
    "4) Escribe un programa que convierta grados Celsius a grados Fahrenheit utilizando la fórmula: **F = (C * 9/5) + 32**"
   ]
  },
  {
   "cell_type": "code",
   "execution_count": 7,
   "metadata": {},
   "outputs": [
    {
     "name": "stdout",
     "output_type": "stream",
     "text": [
      "La temperatura en grados Fahrenheit es:  77.0\n"
     ]
    }
   ],
   "source": [
    "c = float(input(\"Ingrese la temperatura en grados Celcius: \"))\n",
    "f = (c * 9/5) + 32\n",
    "print(\"La temperatura en grados Fahrenheit es: \", f)"
   ]
  },
  {
   "cell_type": "markdown",
   "metadata": {},
   "source": [
    "5) Pedir al usuario su edad y mostrar por pantalla si es mayor de edad o no. (Mayor de edad >= 18)"
   ]
  },
  {
   "cell_type": "code",
   "execution_count": 9,
   "metadata": {},
   "outputs": [
    {
     "name": "stdout",
     "output_type": "stream",
     "text": [
      "Usted es menor de edad\n"
     ]
    }
   ],
   "source": [
    "edad = int(input(\"Ingrese su edad: \"))\n",
    "if edad >= 18:\n",
    "    print(\"Usted es mayor de edad\")\n",
    "else:\n",
    "    print(\"Usted es menor de edad\")"
   ]
  },
  {
   "cell_type": "markdown",
   "metadata": {},
   "source": [
    "6) Comprobar si el numero ingresado por el usuario es par o impar."
   ]
  },
  {
   "cell_type": "code",
   "execution_count": 12,
   "metadata": {},
   "outputs": [
    {
     "name": "stdout",
     "output_type": "stream",
     "text": [
      "El número es par\n"
     ]
    }
   ],
   "source": [
    "number = int(input(\"Ingrese un número: \"))\n",
    "if number % 2 == 0:\n",
    "    print(\"El número es par\")\n",
    "else:\n",
    "    print(\"El número es impar\")"
   ]
  },
  {
   "cell_type": "markdown",
   "metadata": {},
   "source": [
    "7) Pedir al usuario que ingrese su dirección email y luego mostrar un mensaje indicando si la dirección es válida o no. Una dirección se considerará válida si contiene el símbolo \"@\"."
   ]
  },
  {
   "cell_type": "code",
   "execution_count": 13,
   "metadata": {},
   "outputs": [
    {
     "name": "stdout",
     "output_type": "stream",
     "text": [
      "El correo es válido\n"
     ]
    }
   ],
   "source": [
    "email = input(\"Ingrese su correo electrónico: \")\n",
    "if \"@\" in email:\n",
    "    print(\"El correo es válido\")\n",
    "else:\n",
    "    print(\"El correo no es válido\")"
   ]
  },
  {
   "cell_type": "markdown",
   "metadata": {},
   "source": [
    "8) Dado un número de dos cifras, diseñe un algoritmo que permita obtener el número invertido. Ejemplo, si se introduce 23 que muestre 32. (Recordar que las cadenas pueden tratarse como listas de caracteres)."
   ]
  },
  {
   "cell_type": "code",
   "execution_count": 20,
   "metadata": {},
   "outputs": [
    {
     "name": "stdout",
     "output_type": "stream",
     "text": [
      "El número tiene dos cifras\n",
      "El numero invertido queda: 74\n"
     ]
    }
   ],
   "source": [
    "f = (int(input(\"Ingrese un número de dos cifras: \")))\n",
    "\n",
    "if f>=10 and f<=99:\n",
    "    print(\"El número tiene dos cifras\") \n",
    "    num_str = str(f)\n",
    "    numero_invertido = num_str[::-1]\n",
    "    print(\"El numero invertido queda:\", numero_invertido)\n",
    "else:\n",
    "    print(\"El número no tiene dos cifras\")\n",
    "    \n"
   ]
  },
  {
   "cell_type": "markdown",
   "metadata": {},
   "source": [
    "9) Crea un programa que pida al usuario dos números y muestre True si ambos son mayores que 10."
   ]
  },
  {
   "cell_type": "code",
   "execution_count": 22,
   "metadata": {},
   "outputs": [
    {
     "data": {
      "text/plain": [
       "False"
      ]
     },
     "execution_count": 22,
     "metadata": {},
     "output_type": "execute_result"
    }
   ],
   "source": [
    "us1 = (int(input(\"Ingrese un número: \")))\n",
    "us2 = (int(input(\"Ingrese otro número: \")))\n",
    "us1>10 and us2>10"
   ]
  },
  {
   "cell_type": "markdown",
   "metadata": {},
   "source": [
    "10) Escribe un programa que verifique si un número ingresado por el usuario es divisible por 3 y por 5."
   ]
  },
  {
   "cell_type": "code",
   "execution_count": 4,
   "metadata": {},
   "outputs": [
    {
     "name": "stdout",
     "output_type": "stream",
     "text": [
      "15 es divisible por 3 y 5.\n"
     ]
    }
   ],
   "source": [
    "numero = int(input(\"Ingresa un número: \"))\n",
    "\n",
    "if numero % 3 == 0 and numero % 5 == 0:\n",
    "    print(f\"{numero} es divisible por 3 y 5.\")\n",
    "else:\n",
    "    print(f\"{numero} no es divisible por 3 y 5.\")\n"
   ]
  },
  {
   "cell_type": "markdown",
   "metadata": {},
   "source": [
    "11) Utilizando la información del punto 5, preguntar al usuario si posee carnet de conducir, luego verificar si puede conducir un automóvil."
   ]
  },
  {
   "cell_type": "code",
   "execution_count": 12,
   "metadata": {},
   "outputs": [
    {
     "name": "stdout",
     "output_type": "stream",
     "text": [
      "Usted no puede conducir\n"
     ]
    }
   ],
   "source": [
    "carnet = input(\"Posee carnet de conducir? (S/N): \")\n",
    "if carnet == \"S\" or carnet == \"s\":\n",
    "    if edad >= 18:\n",
    "        print(\"Usted puede conducir\")\n",
    "    else:\n",
    "        print(\"Usted no puede conducir\")\n",
    "    "
   ]
  },
  {
   "cell_type": "markdown",
   "metadata": {},
   "source": [
    "12) Pide al usuario un número y verifica si es positivo y no es mayor que 100."
   ]
  },
  {
   "cell_type": "code",
   "execution_count": 16,
   "metadata": {},
   "outputs": [
    {
     "name": "stdout",
     "output_type": "stream",
     "text": [
      "El número no es positivo o no está entre 0 y 100\n"
     ]
    }
   ],
   "source": [
    "n = int(input(\"Ingrese un número: \"))\n",
    "if n >= 0 and n <= 100:\n",
    "    print(\"El número es positivo y está entre 0 y 100\")\n",
    "else:\n",
    "    print(\"El número no es positivo o no está entre 0 y 100\")\n",
    "    "
   ]
  },
  {
   "cell_type": "markdown",
   "metadata": {},
   "source": [
    "13) Crear un programa que valide si un número ingresado por el usuario es par y mayor que 20."
   ]
  },
  {
   "cell_type": "code",
   "execution_count": 18,
   "metadata": {},
   "outputs": [
    {
     "name": "stdout",
     "output_type": "stream",
     "text": [
      "El número es par y mayor a 20\n"
     ]
    }
   ],
   "source": [
    "d = int(input(\"Ingrese un número: \"))\n",
    "if d % 2 == 0 and d > 20:\n",
    "    print(\"El número es par y mayor a 20\")\n",
    "else:\n",
    "    print(\"El número no es par o no es mayor a 20\")"
   ]
  },
  {
   "cell_type": "markdown",
   "metadata": {},
   "source": [
    "14) Dada la variable **numero = 5**, realizar la operación necesaria para que número sea igual a 8. Luego imprimir en pantalla el nuevo valor de número y realizar una nueva operación para que el valor de número sea igual a 4 y mostrar en pantalla el nuevo valor."
   ]
  },
  {
   "cell_type": "code",
   "execution_count": 22,
   "metadata": {},
   "outputs": [
    {
     "name": "stdout",
     "output_type": "stream",
     "text": [
      "El nuevo valor de numero es: 8\n",
      "El nuevo valor de numero es: 4\n"
     ]
    }
   ],
   "source": [
    "\n",
    "num = 5\n",
    "num += 3\n",
    "\n",
    "print(\"El nuevo valor de numero es:\", num)\n",
    "\n",
    "num -= 4\n",
    "\n",
    "print(\"El nuevo valor de numero es:\", num)\n"
   ]
  },
  {
   "cell_type": "markdown",
   "metadata": {},
   "source": [
    "15) Dadas las variables altura = \"10\" y base = 5, calcular el área de un triángulo y mostrar el resultado en pantalla. ¿Por qué el resultado es un error? ¿Cómo lo corregirías?"
   ]
  },
  {
   "cell_type": "markdown",
   "metadata": {},
   "source": [
    "altura esta definida como un str"
   ]
  },
  {
   "cell_type": "code",
   "execution_count": 23,
   "metadata": {},
   "outputs": [
    {
     "name": "stdout",
     "output_type": "stream",
     "text": [
      "El área del triángulo es: 25.0\n"
     ]
    }
   ],
   "source": [
    "\n",
    "altura = \"10\"\n",
    "base = 5\n",
    "\n",
    "altura = int(altura)\n",
    "\n",
    "area = (base * altura) / 2\n",
    "\n",
    "print(\"El área del triángulo es:\", area)\n"
   ]
  },
  {
   "cell_type": "markdown",
   "metadata": {},
   "source": [
    "16) Crea un programa que calcule el promedio de tres calificaciones ingresadas por el usuario, y comprobar si el alumno aprobó o no (aprueba con nota mayor a 6)."
   ]
  },
  {
   "cell_type": "code",
   "execution_count": 26,
   "metadata": {},
   "outputs": [
    {
     "name": "stdout",
     "output_type": "stream",
     "text": [
      "Usted ha aprobado con: 6.333333333333333\n"
     ]
    }
   ],
   "source": [
    "calificacion1 = int(input(\"Ingrese la primera calificación: \"))\n",
    "calificacion2 = int(input(\"Ingrese la segunda calificación: \"))\n",
    "calificacion3 = int(input(\"Ingrese la tercera calificación: \"))\n",
    "calificacion_final = (calificacion1 + calificacion2 + calificacion3) / 3\n",
    "if calificacion_final > 6:\n",
    "    print(\"Usted ha aprobado con:\", calificacion_final)\n",
    "else:\n",
    "    print(\"Usted ha reprobado con:\", calificacion_final)"
   ]
  },
  {
   "cell_type": "markdown",
   "metadata": {},
   "source": [
    "17) Pide al usuario su edad y calcula cuántos días, horas y minutos ha vivido aproximadamente (asumiendo 365 días por año)."
   ]
  },
  {
   "cell_type": "code",
   "execution_count": 23,
   "metadata": {},
   "outputs": [
    {
     "name": "stdout",
     "output_type": "stream",
     "text": [
      "Ha vivido aproximadamente 12410 días.\n",
      "Ha vivido aproximadamente 297840 horas.\n",
      "Ha vivido aproximadamente 17870400 minutos.\n"
     ]
    }
   ],
   "source": [
    "edad1 = int(input(\"Ingrese su edad: \"))\n",
    "\n",
    "dias_vividos = edad1 * 365\n",
    "horas_vividas = dias_vividos * 24\n",
    "minutos_vividos = horas_vividas * 60\n",
    "\n",
    "print(f\"Has vivido aproximadamente {dias_vividos} días.\")\n",
    "print(f\"Has vivido aproximadamente {horas_vividas} horas.\")\n",
    "print(f\"Has vivido aproximadamente {minutos_vividos} minutos.\")\n"
   ]
  },
  {
   "cell_type": "markdown",
   "metadata": {},
   "source": [
    "18) Crea un programa que verifique si un número ingresado por el usuario es múltiplo de 4 y de 6 al mismo tiempo."
   ]
  },
  {
   "cell_type": "code",
   "execution_count": 28,
   "metadata": {},
   "outputs": [
    {
     "name": "stdout",
     "output_type": "stream",
     "text": [
      "24 es múltiplo de 4 y de 6.\n"
     ]
    }
   ],
   "source": [
    "p = int(input(\"Ingresa un número: \"))\n",
    "\n",
    "if p % 4 == 0 and p % 6 == 0:\n",
    "    print(f\"{p} es múltiplo de 4 y de 6.\")\n",
    "else:\n",
    "    print(f\"{p} no es múltiplo de 4 y de 6.\")\n"
   ]
  },
  {
   "cell_type": "markdown",
   "metadata": {},
   "source": [
    "19) "
   ]
  }
 ],
 "metadata": {
  "kernelspec": {
   "display_name": "Python 3",
   "language": "python",
   "name": "python3"
  },
  "language_info": {
   "codemirror_mode": {
    "name": "ipython",
    "version": 3
   },
   "file_extension": ".py",
   "mimetype": "text/x-python",
   "name": "python",
   "nbconvert_exporter": "python",
   "pygments_lexer": "ipython3",
   "version": "3.11.4"
  }
 },
 "nbformat": 4,
 "nbformat_minor": 2
}
